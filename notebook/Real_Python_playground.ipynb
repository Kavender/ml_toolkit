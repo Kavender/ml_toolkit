{
 "cells": [
  {
   "cell_type": "markdown",
   "metadata": {},
   "source": [
    "##### class inheritence "
   ]
  },
  {
   "cell_type": "code",
   "execution_count": 13,
   "metadata": {
    "ExecuteTime": {
     "end_time": "2020-01-16T13:34:10.199801Z",
     "start_time": "2020-01-16T13:34:10.195710Z"
    }
   },
   "outputs": [],
   "source": [
    "class Person:\n",
    "    description = \"general person\"\n",
    "    \n",
    "    def __init__(self, name, age):\n",
    "        self.name = name\n",
    "        self.age = age\n",
    "    \n",
    "    def speak(self):\n",
    "        print(f\"My name is {self.name} and I am {self.age} year old.\")\n",
    "        \n",
    "    def eat(self, food):\n",
    "        print(f\"{self.name} likes to eat {food}\")\n",
    "    \n",
    "    def action(self):\n",
    "        print(f\"{self.name} jumps\")\n",
    "    "
   ]
  },
  {
   "cell_type": "code",
   "execution_count": 20,
   "metadata": {
    "ExecuteTime": {
     "end_time": "2020-01-16T13:40:10.099122Z",
     "start_time": "2020-01-16T13:40:10.096057Z"
    }
   },
   "outputs": [],
   "source": [
    "class Baby(Person):\n",
    "    description = \"new baby\"\n",
    "    \n",
    "    def speak(self):\n",
    "        print(\"ba ba ba ba ba\")\n",
    "    \n",
    "    def nap(self):\n",
    "        print(f\"{self.name} like to have a nap\")"
   ]
  },
  {
   "cell_type": "code",
   "execution_count": 21,
   "metadata": {
    "ExecuteTime": {
     "end_time": "2020-01-16T13:40:10.466055Z",
     "start_time": "2020-01-16T13:40:10.461571Z"
    }
   },
   "outputs": [
    {
     "name": "stdout",
     "output_type": "stream",
     "text": [
      "ba ba ba ba ba\n",
      "Ian likes to eat baby food\n",
      "Ian jumps\n",
      "-----------\n",
      "general person\n",
      "new baby\n",
      "-----------\n",
      "True\n",
      "True\n"
     ]
    }
   ],
   "source": [
    "person = Person(\"Mike\", 30)\n",
    "baby = Baby(\"Ian\", 1)\n",
    "baby.speak()\n",
    "baby.eat(\"baby food\")\n",
    "baby.action()\n",
    "print(\"-----------\")\n",
    "print(Person.description)\n",
    "print(Baby.description)\n",
    "print(\"-----------\")\n",
    "print(isinstance(baby, Person))\n",
    "print(isinstance(baby, object))"
   ]
  },
  {
   "cell_type": "code",
   "execution_count": 30,
   "metadata": {
    "ExecuteTime": {
     "end_time": "2020-01-19T13:49:05.836410Z",
     "start_time": "2020-01-19T13:49:05.832406Z"
    }
   },
   "outputs": [],
   "source": [
    "def a(length, **kwargs):\n",
    "    print(\"len:\", length)\n",
    "    print([len(kwargs), type(kwargs)])\n",
    "    for k in kwargs:\n",
    "        print(\"{}: {}\".format(k, kwargs[k]))"
   ]
  },
  {
   "cell_type": "code",
   "execution_count": 34,
   "metadata": {
    "ExecuteTime": {
     "end_time": "2020-01-19T13:49:39.788522Z",
     "start_time": "2020-01-19T13:49:39.785488Z"
    }
   },
   "outputs": [
    {
     "name": "stdout",
     "output_type": "stream",
     "text": [
      "len: 1\n",
      "[1, <class 'dict'>]\n",
      "base: 2\n"
     ]
    }
   ],
   "source": [
    "a(length=1,base=2)"
   ]
  },
  {
   "cell_type": "code",
   "execution_count": 51,
   "metadata": {
    "ExecuteTime": {
     "end_time": "2020-01-19T13:57:27.405266Z",
     "start_time": "2020-01-19T13:57:27.402594Z"
    }
   },
   "outputs": [],
   "source": [
    "class sth:\n",
    "    def __init__(self, **kwargs):\n",
    "        super().__init__(**kwargs)\n",
    "        pass"
   ]
  },
  {
   "cell_type": "code",
   "execution_count": 67,
   "metadata": {
    "ExecuteTime": {
     "end_time": "2020-01-19T14:23:28.580670Z",
     "start_time": "2020-01-19T14:23:28.574446Z"
    }
   },
   "outputs": [],
   "source": [
    "class Rectangle:\n",
    "    def __init__(self, length, width, **kwargs):\n",
    "        self.length = length\n",
    "        self.width = width\n",
    "        print(\"Rectangle\",kwargs)\n",
    "#         del kwargs[\"base\"]\n",
    "        print(\"Rectangle2\",kwargs)\n",
    "        super().__init__(**kwargs)\n",
    "\n",
    "class Square(Rectangle):\n",
    "    def __init__(self, length, **kwargs):\n",
    "        print(\"Square\",kwargs)\n",
    "        super().__init__(length=length, width=length, **kwargs)\n",
    "\n",
    "class Triangle:\n",
    "    def __init__(self, base, height, **kwargs):\n",
    "        self.base = base\n",
    "        self.height = height\n",
    "        print(\"Triangle\",kwargs)\n",
    "        super().__init__(**kwargs)\n",
    "\n",
    "class RightPyramid(Triangle, Square):\n",
    "    def __init__(self, base, slant_height, **kwargs):\n",
    "        self.base = base\n",
    "        self.slant_height = slant_height\n",
    "        kwargs['height'] = slant_height\n",
    "        kwargs['length'] = base\n",
    "        print(\"RightPyramid\",kwargs)\n",
    "        super().__init__(base=base, **kwargs)"
   ]
  },
  {
   "cell_type": "code",
   "execution_count": 68,
   "metadata": {
    "ExecuteTime": {
     "end_time": "2020-01-19T14:23:29.237821Z",
     "start_time": "2020-01-19T14:23:29.234564Z"
    }
   },
   "outputs": [
    {
     "name": "stdout",
     "output_type": "stream",
     "text": [
      "RightPyramid {'height': 34, 'length': 12}\n",
      "Triangle {'length': 12}\n",
      "Square {}\n",
      "Rectangle {}\n",
      "Rectangle2 {}\n"
     ]
    }
   ],
   "source": [
    "a = RightPyramid(12, 34)"
   ]
  },
  {
   "cell_type": "markdown",
   "metadata": {},
   "source": [
    "###### immutable data structure"
   ]
  },
  {
   "cell_type": "code",
   "execution_count": 112,
   "metadata": {
    "ExecuteTime": {
     "end_time": "2020-01-22T02:35:18.566077Z",
     "start_time": "2020-01-22T02:35:18.561643Z"
    }
   },
   "outputs": [],
   "source": [
    "import os\n",
    "import itertools\n",
    "import collections\n",
    "import multiprocessing\n",
    "import concurrent.futures\n",
    "from functools import reduce\n",
    "from pprint import pprint"
   ]
  },
  {
   "cell_type": "code",
   "execution_count": 75,
   "metadata": {
    "ExecuteTime": {
     "end_time": "2020-01-21T03:53:40.090409Z",
     "start_time": "2020-01-21T03:53:40.081104Z"
    }
   },
   "outputs": [],
   "source": [
    "def is_prime(num):\n",
    "    if num > 1: \n",
    "        for i in range(2, num//2): \n",
    "            # If num is divisible by any number between  \n",
    "            # 2 and n / 2, it is not prime  \n",
    "            if (num % i) == 0: \n",
    "                return False\n",
    "    else:\n",
    "        return False\n",
    "    return True"
   ]
  },
  {
   "cell_type": "code",
   "execution_count": 79,
   "metadata": {
    "ExecuteTime": {
     "end_time": "2020-01-21T03:55:09.206115Z",
     "start_time": "2020-01-21T03:55:09.202540Z"
    }
   },
   "outputs": [
    {
     "name": "stdout",
     "output_type": "stream",
     "text": [
      "[2, 3, 4, 5, 7, 11, 13, 17, 19, 23, 29, 31, 37, 41, 43, 47, 53, 59, 61, 67, 71, 73, 79, 83, 89, 97]\n"
     ]
    }
   ],
   "source": [
    "print(list(filter(lambda x: is_prime(x), range(100))))"
   ]
  },
  {
   "cell_type": "code",
   "execution_count": 96,
   "metadata": {
    "ExecuteTime": {
     "end_time": "2020-01-21T12:48:33.572649Z",
     "start_time": "2020-01-21T12:48:33.565989Z"
    }
   },
   "outputs": [],
   "source": [
    "# we can change the example to company's funding status, active, industry, country/state, vc_backed\n",
    "# age: can become 'year_founded', company can be CES participates\n",
    "Scientist = collections.namedtuple('Scientist', [\n",
    "    'name',\n",
    "    'field',\n",
    "    'born',\n",
    "    'nobel',\n",
    "])\n",
    "\n",
    "scientists = (\n",
    "    Scientist(name='Ada Lovelace', field='math', born=1815, nobel=False),\n",
    "    Scientist(name='Emmy Noether', field='math', born=1882, nobel=False),\n",
    "    Scientist(name='Marie Curie', field='math', born=1867, nobel=True),\n",
    "    Scientist(name='Tu Youyou', field='physics', born=1930, nobel=True),\n",
    "    Scientist(name='Ada Yonath', field='chemistry', born=1939, nobel=True),\n",
    "    Scientist(name='Vera Rubin', field='astronomy', born=1928, nobel=False),\n",
    "    Scientist(name='Sally Ride', field='physics', born=1951, nobel=False),\n",
    ")"
   ]
  },
  {
   "cell_type": "code",
   "execution_count": 97,
   "metadata": {
    "ExecuteTime": {
     "end_time": "2020-01-21T12:48:34.689523Z",
     "start_time": "2020-01-21T12:48:34.685995Z"
    }
   },
   "outputs": [
    {
     "name": "stdout",
     "output_type": "stream",
     "text": [
      "(Scientist(name='Marie Curie', field='math', born=1867, nobel=True),\n",
      " Scientist(name='Tu Youyou', field='physics', born=1930, nobel=True),\n",
      " Scientist(name='Ada Yonath', field='chemistry', born=1939, nobel=True))\n"
     ]
    }
   ],
   "source": [
    "pprint(tuple(filter(lambda x: x.nobel is True, scientists)))"
   ]
  },
  {
   "cell_type": "code",
   "execution_count": 98,
   "metadata": {
    "ExecuteTime": {
     "end_time": "2020-01-21T12:48:36.149331Z",
     "start_time": "2020-01-21T12:48:36.145993Z"
    }
   },
   "outputs": [
    {
     "name": "stdout",
     "output_type": "stream",
     "text": [
      "(Scientist(name='Tu Youyou', field='physics', born=1930, nobel=True),)\n"
     ]
    }
   ],
   "source": [
    "pprint(tuple(filter(lambda x: x.nobel and x.field == \"physics\", scientists)))"
   ]
  },
  {
   "cell_type": "code",
   "execution_count": 84,
   "metadata": {
    "ExecuteTime": {
     "end_time": "2020-01-21T04:11:03.037663Z",
     "start_time": "2020-01-21T04:11:03.031294Z"
    }
   },
   "outputs": [],
   "source": [
    "names_and_ages = tuple(map(lambda x: {'name': x.name, 'age': 2020 - x.born}, scientists))"
   ]
  },
  {
   "cell_type": "code",
   "execution_count": 86,
   "metadata": {
    "ExecuteTime": {
     "end_time": "2020-01-21T04:11:32.722523Z",
     "start_time": "2020-01-21T04:11:32.718504Z"
    }
   },
   "outputs": [
    {
     "name": "stdout",
     "output_type": "stream",
     "text": [
      "({'age': 205, 'name': 'Ada Lovelace'},\n",
      " {'age': 138, 'name': 'Emmy Noether'},\n",
      " {'age': 153, 'name': 'Marie Curie'},\n",
      " {'age': 90, 'name': 'Tu Youyou'},\n",
      " {'age': 81, 'name': 'Ada Yonath'},\n",
      " {'age': 92, 'name': 'Vera Rubin'},\n",
      " {'age': 69, 'name': 'Sally Ride'})\n"
     ]
    }
   ],
   "source": [
    "pprint(names_and_ages)"
   ]
  },
  {
   "cell_type": "code",
   "execution_count": 99,
   "metadata": {
    "ExecuteTime": {
     "end_time": "2020-01-21T12:48:40.181637Z",
     "start_time": "2020-01-21T12:48:40.176776Z"
    }
   },
   "outputs": [
    {
     "data": {
      "text/plain": [
       "({'name': 'Ada Lovelace', 'age': 205},\n",
       " {'name': 'Emmy Noether', 'age': 138},\n",
       " {'name': 'Marie Curie', 'age': 153},\n",
       " {'name': 'Tu Youyou', 'age': 90},\n",
       " {'name': 'Ada Yonath', 'age': 81},\n",
       " {'name': 'Vera Rubin', 'age': 92},\n",
       " {'name': 'Sally Ride', 'age': 69})"
      ]
     },
     "execution_count": 99,
     "metadata": {},
     "output_type": "execute_result"
    }
   ],
   "source": [
    "tuple({'name': x.name, 'age': 2020 - x.born} for x in scientists)"
   ]
  },
  {
   "cell_type": "code",
   "execution_count": 92,
   "metadata": {
    "ExecuteTime": {
     "end_time": "2020-01-21T12:37:26.922680Z",
     "start_time": "2020-01-21T12:37:26.919029Z"
    }
   },
   "outputs": [
    {
     "name": "stdout",
     "output_type": "stream",
     "text": [
      "828\n"
     ]
    }
   ],
   "source": [
    "total_age = reduce(lambda acc, val: acc + val['age'], names_and_ages, 0)\n",
    "print(total_age)"
   ]
  },
  {
   "cell_type": "code",
   "execution_count": 103,
   "metadata": {
    "ExecuteTime": {
     "end_time": "2020-01-21T12:49:55.415404Z",
     "start_time": "2020-01-21T12:49:55.412288Z"
    }
   },
   "outputs": [],
   "source": [
    "def reducer(acc, val):\n",
    "    acc[val.field].append(val.name)\n",
    "    return acc\n",
    "\n",
    "def reducer2(acc, val):\n",
    "    acc.setdefault(val.field, []).append(val.name)\n",
    "    return acc"
   ]
  },
  {
   "cell_type": "code",
   "execution_count": 100,
   "metadata": {
    "ExecuteTime": {
     "end_time": "2020-01-21T12:48:42.213190Z",
     "start_time": "2020-01-21T12:48:42.208960Z"
    }
   },
   "outputs": [
    {
     "name": "stdout",
     "output_type": "stream",
     "text": [
      "{'astronomy': ['Vera Rubin'],\n",
      " 'chemistry': ['Ada Yonath'],\n",
      " 'math': ['Ada Lovelace', 'Emmy Noether', 'Marie Curie'],\n",
      " 'physics': ['Tu Youyou', 'Sally Ride']}\n"
     ]
    }
   ],
   "source": [
    "scientists_by_field = reduce(reducer, scientists,\n",
    "                             {'math': [], 'physics': [], 'chemistry': [], 'astronomy': []}\n",
    "                            )\n",
    "pprint(scientists_by_field)"
   ]
  },
  {
   "cell_type": "code",
   "execution_count": 104,
   "metadata": {
    "ExecuteTime": {
     "end_time": "2020-01-21T12:49:59.129665Z",
     "start_time": "2020-01-21T12:49:59.126348Z"
    }
   },
   "outputs": [
    {
     "name": "stdout",
     "output_type": "stream",
     "text": [
      "{'astronomy': ['Vera Rubin'],\n",
      " 'chemistry': ['Ada Yonath'],\n",
      " 'math': ['Ada Lovelace', 'Emmy Noether', 'Marie Curie'],\n",
      " 'physics': ['Tu Youyou', 'Sally Ride']}\n"
     ]
    }
   ],
   "source": [
    "scientists_by_field2 = reduce(reducer2, scientists, {})\n",
    "pprint(scientists_by_field2)"
   ]
  },
  {
   "cell_type": "code",
   "execution_count": 105,
   "metadata": {
    "ExecuteTime": {
     "end_time": "2020-01-21T12:52:09.611199Z",
     "start_time": "2020-01-21T12:52:09.601346Z"
    }
   },
   "outputs": [
    {
     "name": "stdout",
     "output_type": "stream",
     "text": [
      "defaultdict(<class 'list'>,\n",
      "            {'astronomy': ['Vera Rubin'],\n",
      "             'chemistry': ['Ada Yonath'],\n",
      "             'math': ['Ada Lovelace', 'Emmy Noether', 'Marie Curie'],\n",
      "             'physics': ['Tu Youyou', 'Sally Ride']})\n"
     ]
    }
   ],
   "source": [
    "scientists_by_field3 = reduce(reducer, scientists, collections.defaultdict(list))\n",
    "pprint(scientists_by_field3)"
   ]
  },
  {
   "cell_type": "code",
   "execution_count": 107,
   "metadata": {
    "ExecuteTime": {
     "end_time": "2020-01-21T12:58:14.191993Z",
     "start_time": "2020-01-21T12:58:14.187016Z"
    }
   },
   "outputs": [
    {
     "name": "stdout",
     "output_type": "stream",
     "text": [
      "{'astronomy': [Scientist(name='Vera Rubin', field='astronomy', born=1928, nobel=False)],\n",
      " 'chemistry': [Scientist(name='Ada Yonath', field='chemistry', born=1939, nobel=True)],\n",
      " 'math': [Scientist(name='Ada Lovelace', field='math', born=1815, nobel=False),\n",
      "          Scientist(name='Emmy Noether', field='math', born=1882, nobel=False),\n",
      "          Scientist(name='Marie Curie', field='math', born=1867, nobel=True)],\n",
      " 'physics': [Scientist(name='Sally Ride', field='physics', born=1951, nobel=False)]}\n"
     ]
    }
   ],
   "source": [
    "scientists_by_field4 = {item[0]: list(item[1])\n",
    "                        for item in itertools.groupby(scientists, lambda x: x.field)}\n",
    "pprint(scientists_by_field4)"
   ]
  },
  {
   "cell_type": "code",
   "execution_count": 113,
   "metadata": {
    "ExecuteTime": {
     "end_time": "2020-01-22T02:36:13.490191Z",
     "start_time": "2020-01-22T02:36:13.486489Z"
    }
   },
   "outputs": [],
   "source": [
    "# can change to use timer decorator\n",
    "def transform(x):\n",
    "    print(f'Processing {os.getpid()}record {x.name}')\n",
    "    result = {'name': x.name, 'age': 2020 - x.born}\n",
    "    print(f'{os.getpid()} Done processing record {x.name}')\n",
    "    return result"
   ]
  },
  {
   "cell_type": "code",
   "execution_count": 114,
   "metadata": {
    "ExecuteTime": {
     "end_time": "2020-01-22T02:36:14.439549Z",
     "start_time": "2020-01-22T02:36:14.434711Z"
    }
   },
   "outputs": [
    {
     "name": "stdout",
     "output_type": "stream",
     "text": [
      "Processing 30022record Ada Lovelace\n",
      "30022 Done processing record Ada Lovelace\n",
      "Processing 30022record Emmy Noether\n",
      "30022 Done processing record Emmy Noether\n",
      "Processing 30022record Marie Curie\n",
      "30022 Done processing record Marie Curie\n",
      "Processing 30022record Tu Youyou\n",
      "30022 Done processing record Tu Youyou\n",
      "Processing 30022record Ada Yonath\n",
      "30022 Done processing record Ada Yonath\n",
      "Processing 30022record Vera Rubin\n",
      "30022 Done processing record Vera Rubin\n",
      "Processing 30022record Sally Ride\n",
      "30022 Done processing record Sally Ride\n",
      "({'age': 205, 'name': 'Ada Lovelace'},\n",
      " {'age': 138, 'name': 'Emmy Noether'},\n",
      " {'age': 153, 'name': 'Marie Curie'},\n",
      " {'age': 90, 'name': 'Tu Youyou'},\n",
      " {'age': 81, 'name': 'Ada Yonath'},\n",
      " {'age': 92, 'name': 'Vera Rubin'},\n",
      " {'age': 69, 'name': 'Sally Ride'})\n"
     ]
    }
   ],
   "source": [
    "\n",
    "pprint(tuple(map(transform, scientists)))"
   ]
  },
  {
   "cell_type": "code",
   "execution_count": 116,
   "metadata": {
    "ExecuteTime": {
     "end_time": "2020-01-22T02:36:46.378047Z",
     "start_time": "2020-01-22T02:36:46.316106Z"
    }
   },
   "outputs": [
    {
     "name": "stdout",
     "output_type": "stream",
     "text": [
      "Processing 38750record Emmy Noether\n",
      "Processing 38754record Vera Rubin\n",
      "Processing 38753record Ada Yonath\n",
      "Processing 38749record Ada Lovelace\n",
      "Processing 38751record Marie Curie\n",
      "Processing 38752record Tu Youyou\n",
      "Processing 38755record Sally Ride\n",
      "38749 Done processing record Ada Lovelace\n",
      "38753 Done processing record Ada Yonath\n",
      "38750 Done processing record Emmy Noether\n",
      "38754 Done processing record Vera Rubin\n",
      "38751 Done processing record Marie Curie\n",
      "38752 Done processing record Tu Youyou\n",
      "38755 Done processing record Sally Ride\n"
     ]
    }
   ],
   "source": [
    "pool = multiprocessing.Pool(processes=len(scientists))\n",
    "result = pool.map(transform, scientists)"
   ]
  },
  {
   "cell_type": "code",
   "execution_count": 119,
   "metadata": {
    "ExecuteTime": {
     "end_time": "2020-01-22T02:46:35.491957Z",
     "start_time": "2020-01-22T02:46:35.418650Z"
    }
   },
   "outputs": [
    {
     "name": "stdout",
     "output_type": "stream",
     "text": [
      "Processing 38765record Ada Lovelace\n",
      "Processing 38766record Emmy Noether\n",
      "Processing 38769record Ada Yonath\n",
      "Processing 38770record Vera Rubin\n",
      "Processing 38767record Marie Curie\n",
      "Processing 38771record Sally Ride\n",
      "Processing 38768record Tu Youyou\n",
      "38766 Done processing record Emmy Noether\n",
      "38765 Done processing record Ada Lovelace\n",
      "38767 Done processing record Marie Curie\n",
      "38768 Done processing record Tu Youyou\n",
      "38770 Done processing record Vera Rubin\n",
      "38769 Done processing record Ada Yonath\n",
      "38771 Done processing record Sally Ride\n"
     ]
    }
   ],
   "source": [
    "with concurrent.futures.ProcessPoolExecutor() as executor:\n",
    "    result = executor.map(transform, scientists)"
   ]
  },
  {
   "cell_type": "code",
   "execution_count": 121,
   "metadata": {
    "ExecuteTime": {
     "end_time": "2020-01-22T03:04:04.914463Z",
     "start_time": "2020-01-22T03:04:04.910002Z"
    }
   },
   "outputs": [],
   "source": [
    "import threading\n",
    "thread_local = threading.local()\n",
    "\n",
    "\n",
    "def get_session():\n",
    "    if not hasattr(thread_local, \"session\"):\n",
    "        thread_local.session = requests.Session()\n",
    "    return thread_local.session\n",
    "\n",
    "\n",
    "def download_site(url):\n",
    "    session = get_session()\n",
    "    with session.get(url) as response:\n",
    "        print(f\"Read {len(response.content)} from {url}\")\n",
    "\n",
    "\n",
    "def download_all_sites(sites):\n",
    "    with concurrent.futures.ThreadPoolExecutor(max_workers=5) as executor:\n",
    "        executor.map(download_site, sites)"
   ]
  },
  {
   "cell_type": "code",
   "execution_count": 123,
   "metadata": {
    "ExecuteTime": {
     "end_time": "2020-01-23T03:33:21.504167Z",
     "start_time": "2020-01-23T03:33:21.494978Z"
    }
   },
   "outputs": [
    {
     "name": "stdout",
     "output_type": "stream",
     "text": [
      "consonants: ['T', 'h', 'r', 'c', 'k', 't', 'w', 'h', 'w', 's', 'n', 'm', 'd', 'T', 'd', 'c', 'm', 'b', 'c', 'k', 'f', 'r', 'm', 'M', 'r', 's', 'b', 'c', 's', 'h', 'm', 's', 's', 'd', 'h', 's', 'f', 'r', 'n', 'd', 's']\n"
     ]
    }
   ],
   "source": [
    "sentence = 'The rocket, who was named Ted, came back from Mars because he missed his friends.'\n",
    "def is_consonant(letter):\n",
    "    vowels = 'aeiou'\n",
    "    return letter.isalpha() and letter.lower() not in vowels\n",
    "consonants = [i for i in sentence if is_consonant(i)]\n",
    "print(\"consonants:\", consonants)"
   ]
  },
  {
   "cell_type": "markdown",
   "metadata": {},
   "source": [
    "#### unit test for lambda function"
   ]
  },
  {
   "cell_type": "code",
   "execution_count": 131,
   "metadata": {
    "ExecuteTime": {
     "end_time": "2020-01-25T19:39:12.344731Z",
     "start_time": "2020-01-25T19:39:12.188519Z"
    }
   },
   "outputs": [],
   "source": [
    "import unittest\n",
    "import pytest"
   ]
  },
  {
   "cell_type": "code",
   "execution_count": 130,
   "metadata": {
    "ExecuteTime": {
     "end_time": "2020-01-25T19:38:48.819852Z",
     "start_time": "2020-01-25T19:38:48.793682Z"
    }
   },
   "outputs": [],
   "source": [
    "square = lambda x: x**2"
   ]
  },
  {
   "cell_type": "code",
   "execution_count": 133,
   "metadata": {
    "ExecuteTime": {
     "end_time": "2020-01-25T19:41:41.342514Z",
     "start_time": "2020-01-25T19:41:41.338988Z"
    }
   },
   "outputs": [],
   "source": [
    "class LambdaTest(unittest.TestCase):\n",
    "    def test_squared(self):\n",
    "        self.assertEqual(square(2), 4)\n",
    "        \n",
    "    def test_zero(self):\n",
    "        self.assertEqual(square(0), 0)\n",
    "        \n",
    "    def test_negative(self):\n",
    "        self.assertEqual(square(-2), 4)"
   ]
  },
  {
   "cell_type": "code",
   "execution_count": null,
   "metadata": {
    "ExecuteTime": {
     "end_time": "2020-01-25T19:41:58.469704Z",
     "start_time": "2020-01-25T19:41:58.447962Z"
    }
   },
   "outputs": [],
   "source": []
  },
  {
   "cell_type": "code",
   "execution_count": null,
   "metadata": {},
   "outputs": [],
   "source": []
  }
 ],
 "metadata": {
  "kernelspec": {
   "display_name": "Python 3",
   "language": "python",
   "name": "python3"
  },
  "language_info": {
   "codemirror_mode": {
    "name": "ipython",
    "version": 3
   },
   "file_extension": ".py",
   "mimetype": "text/x-python",
   "name": "python",
   "nbconvert_exporter": "python",
   "pygments_lexer": "ipython3",
   "version": "3.6.10"
  },
  "toc": {
   "base_numbering": 1,
   "nav_menu": {},
   "number_sections": true,
   "sideBar": true,
   "skip_h1_title": false,
   "title_cell": "Table of Contents",
   "title_sidebar": "Contents",
   "toc_cell": false,
   "toc_position": {},
   "toc_section_display": true,
   "toc_window_display": false
  }
 },
 "nbformat": 4,
 "nbformat_minor": 2
}
