{
 "cells": [
  {
   "cell_type": "code",
   "execution_count": 1,
   "metadata": {},
   "outputs": [],
   "source": [
    "from typing import List, Dict, Tuple"
   ]
  },
  {
   "cell_type": "code",
   "execution_count": 29,
   "metadata": {},
   "outputs": [],
   "source": [
    "def isValid(s: str) -> bool:\n",
    "    bracket_map = {'(': ')', '[': ']', '{': '}'}\n",
    "    len_s = len(s)\n",
    "    half_len = int(len_s/2)\n",
    "#     print([n for n in range(half_len-1, -1, -1)])\n",
    "    \n",
    "    if len_s < 2 or (len_s %2 != 0):\n",
    "        return False\n",
    "    left, right = s[0], s[1]\n",
    "\n",
    "    if left not in bracket_map:\n",
    "        return False\n",
    "    elif bracket_map[left] == right:\n",
    "        # example 2, consecutive\n",
    "        for n in range(2, half_len):\n",
    "            left = s[2*n]\n",
    "            right = s[2*n + 1]\n",
    "            if (left not in bracket_map) or (bracket_map[left] != right):\n",
    "                return False\n",
    "    else:\n",
    "        # example 5, pair\n",
    "        for n in range(half_len-1, -1, -1):\n",
    "            left = s[n]\n",
    "            right = s[len_s-1 - n]\n",
    "            print(n, len_s-1 - n, left, right)\n",
    "            if (left not in bracket_map) or (bracket_map[left] != right):\n",
    "                return False\n",
    "    return True"
   ]
  },
  {
   "cell_type": "code",
   "execution_count": 34,
   "metadata": {},
   "outputs": [
    {
     "name": "stdout",
     "output_type": "stream",
     "text": [
      "[3, 2, 1, 0]\n",
      "3 4 ] )\n"
     ]
    },
    {
     "data": {
      "text/plain": [
       "False"
      ]
     },
     "execution_count": 34,
     "metadata": {},
     "output_type": "execute_result"
    }
   ],
   "source": [
    "test_input = \"(([]){})\"\n",
    "isValid(test_input)"
   ]
  },
  {
   "cell_type": "code",
   "execution_count": 44,
   "metadata": {},
   "outputs": [],
   "source": [
    "alist = [1,2,3]\n",
    "# alist.pop()"
   ]
  },
  {
   "cell_type": "code",
   "execution_count": 50,
   "metadata": {},
   "outputs": [],
   "source": [
    "def removeDuplicates(nums):\n",
    "    if nums:\n",
    "        count_unique = 1\n",
    "        for num_idx in range(1, len(nums)):\n",
    "            if nums[num_idx] != nums[num_idx -1]:\n",
    "                nums[count_unique] = nums[num_idx]\n",
    "                count_unique += 1\n",
    "        print(nums)\n",
    "        return count_unique\n",
    "    else:\n",
    "        return 0"
   ]
  },
  {
   "cell_type": "code",
   "execution_count": 51,
   "metadata": {},
   "outputs": [
    {
     "name": "stdout",
     "output_type": "stream",
     "text": [
      "[0, 1, 2, 3, 4, 2, 2, 3, 3, 4]\n"
     ]
    },
    {
     "data": {
      "text/plain": [
       "5"
      ]
     },
     "execution_count": 51,
     "metadata": {},
     "output_type": "execute_result"
    }
   ],
   "source": [
    "removeDuplicates([0,0,1,1,1,2,2,3,3,4])"
   ]
  },
  {
   "cell_type": "code",
   "execution_count": 94,
   "metadata": {},
   "outputs": [],
   "source": [
    "def strStr(haystack: str, needle: str):\n",
    "    len_haystack, len_needle = len(haystack), len(needle)\n",
    "    if needle:\n",
    "        for j in range(len_haystack - len_needle + 1):\n",
    "            if haystack[j: j+len_needle] == needle:\n",
    "                return j\n",
    "        return -1\n",
    "    else:\n",
    "        return 0"
   ]
  },
  {
   "cell_type": "code",
   "execution_count": 95,
   "metadata": {},
   "outputs": [
    {
     "data": {
      "text/plain": [
       "0"
      ]
     },
     "execution_count": 95,
     "metadata": {},
     "output_type": "execute_result"
    }
   ],
   "source": [
    "strStr(\"a\",\"a\")"
   ]
  },
  {
   "cell_type": "code",
   "execution_count": 76,
   "metadata": {},
   "outputs": [
    {
     "data": {
      "text/plain": [
       "'i'"
      ]
     },
     "execution_count": 76,
     "metadata": {},
     "output_type": "execute_result"
    }
   ],
   "source": [
    "\"mississippi\"[10]"
   ]
  },
  {
   "cell_type": "code",
   "execution_count": 110,
   "metadata": {},
   "outputs": [],
   "source": [
    "def maxSubArray(nums):\n",
    "    \n",
    "    len_nums = len(nums)\n",
    "    if len_nums == 0:\n",
    "        return largest_sum\n",
    "    elif len_nums == 1:\n",
    "        return nums[0]\n",
    "    else:\n",
    "        curr_sum = nums[0]\n",
    "        largest_sum = curr_sum\n",
    "        for idx in range(1, len_nums):\n",
    "            # if curr_sum < nums[idx] and curr_sum < 0:\n",
    "            #     curr_sum = nums[idx]\n",
    "            # else:\n",
    "            if nums[idx] > curr_sum + nums[idx]:\n",
    "                curr_sum = nums[idx]\n",
    "            else:\n",
    "                curr_sum += nums[idx]\n",
    "            if curr_sum > largest_sum:\n",
    "                largest_sum = curr_sum\n",
    "    return largest_sum\n",
    "                "
   ]
  },
  {
   "cell_type": "code",
   "execution_count": 112,
   "metadata": {},
   "outputs": [
    {
     "data": {
      "text/plain": [
       "6"
      ]
     },
     "execution_count": 112,
     "metadata": {},
     "output_type": "execute_result"
    }
   ],
   "source": [
    "test_input = [-2,1,-3,4,-1,2,1,-5,4]\n",
    "#expect output: [4,-1,2,1]->6\n",
    "maxSubArray(test_input)"
   ]
  },
  {
   "cell_type": "code",
   "execution_count": 102,
   "metadata": {},
   "outputs": [
    {
     "data": {
      "text/plain": [
       "[8, 7, 6, 5, 4, 3, 2, 1]"
      ]
     },
     "execution_count": 102,
     "metadata": {},
     "output_type": "execute_result"
    }
   ],
   "source": [
    "[n for n in range(len(test_input)-1, 0, -1)]"
   ]
  },
  {
   "cell_type": "code",
   "execution_count": 113,
   "metadata": {},
   "outputs": [],
   "source": [
    "def lengthOfLastWord(s: str) -> int:\n",
    "    lst_word = s.split()[0]\n",
    "    return len(lst_word.strip())"
   ]
  },
  {
   "cell_type": "code",
   "execution_count": 114,
   "metadata": {},
   "outputs": [
    {
     "data": {
      "text/plain": [
       "5"
      ]
     },
     "execution_count": 114,
     "metadata": {},
     "output_type": "execute_result"
    }
   ],
   "source": [
    "lengthOfLastWord(\"Hello World\")"
   ]
  },
  {
   "cell_type": "code",
   "execution_count": null,
   "metadata": {},
   "outputs": [],
   "source": []
  },
  {
   "cell_type": "code",
   "execution_count": 151,
   "metadata": {},
   "outputs": [],
   "source": [
    "\n",
    "def mySqrt( x):\n",
    "    low, high = 0, x\n",
    "    while low <= high:\n",
    "        mid = (low + high)//2\n",
    "        if mid*mid == x:\n",
    "            return mid\n",
    "        elif mid*mid < x:\n",
    "            low = mid + 1\n",
    "        else:\n",
    "            high = mid - 1\n",
    "    return high"
   ]
  },
  {
   "cell_type": "code",
   "execution_count": 152,
   "metadata": {},
   "outputs": [
    {
     "data": {
      "text/plain": [
       "2"
      ]
     },
     "execution_count": 152,
     "metadata": {},
     "output_type": "execute_result"
    }
   ],
   "source": [
    "mySqrt(8)"
   ]
  },
  {
   "cell_type": "code",
   "execution_count": 149,
   "metadata": {},
   "outputs": [],
   "source": [
    "def mySqrt1( x: int) -> int:\n",
    "    l = 0 \n",
    "    r = x\n",
    "    while l <= r:\n",
    "        m = (l+r)//2\n",
    "        if m**2 == x:\n",
    "            return m\n",
    "        if m**2 < x:\n",
    "            l=m+1\n",
    "        else:\n",
    "            r=m-1\n",
    "    return r"
   ]
  },
  {
   "cell_type": "code",
   "execution_count": 150,
   "metadata": {},
   "outputs": [
    {
     "data": {
      "text/plain": [
       "2"
      ]
     },
     "execution_count": 150,
     "metadata": {},
     "output_type": "execute_result"
    }
   ],
   "source": [
    "mySqrt1(8)"
   ]
  },
  {
   "cell_type": "code",
   "execution_count": 155,
   "metadata": {},
   "outputs": [],
   "source": [
    "from math import sqrt, pow"
   ]
  },
  {
   "cell_type": "code",
   "execution_count": 156,
   "metadata": {},
   "outputs": [
    {
     "data": {
      "text/plain": [
       "4.0"
      ]
     },
     "execution_count": 156,
     "metadata": {},
     "output_type": "execute_result"
    }
   ],
   "source": [
    "pow(2,2)"
   ]
  },
  {
   "cell_type": "code",
   "execution_count": 1,
   "metadata": {},
   "outputs": [
    {
     "data": {
      "text/plain": [
       "1"
      ]
     },
     "execution_count": 1,
     "metadata": {},
     "output_type": "execute_result"
    }
   ],
   "source": [
    "121%10"
   ]
  },
  {
   "cell_type": "code",
   "execution_count": 2,
   "metadata": {},
   "outputs": [
    {
     "data": {
      "text/plain": [
       "12"
      ]
     },
     "execution_count": 2,
     "metadata": {},
     "output_type": "execute_result"
    }
   ],
   "source": [
    "121//10"
   ]
  },
  {
   "cell_type": "code",
   "execution_count": null,
   "metadata": {},
   "outputs": [],
   "source": [
    "func isPalindrome(x int) bool {\n",
    "    var rem, reversed, inp int\n",
    "    inp = x\n",
    "    for inp != 0 && inp > 0 {\n",
    "        rem = inp%10\n",
    "        reversed = reversed * 10 + rem\n",
    "        inp = inp/10\n",
    "        }\n",
    "    if reversed == x {\n",
    "        return true\n",
    "        }\n",
    "    return false\n",
    "    }"
   ]
  },
  {
   "cell_type": "code",
   "execution_count": 16,
   "metadata": {},
   "outputs": [],
   "source": [
    "def reverse(x):\n",
    "    copy_x = x if x > 0 else -x\n",
    "    reversed_x = 0\n",
    "    while copy_x > 0:\n",
    "        last_digit = copy_x % 10\n",
    "        reversed_x = reversed_x * 10 + last_digit\n",
    "        copy_x = copy_x // 10\n",
    "    if reversed_x > 2**31 -1:\n",
    "        return 0\n",
    "    if x < 0:\n",
    "        reversed_x = -1 * reversed_x\n",
    "    return reversed_x\n"
   ]
  },
  {
   "cell_type": "code",
   "execution_count": 17,
   "metadata": {},
   "outputs": [
    {
     "data": {
      "text/plain": [
       "-121"
      ]
     },
     "execution_count": 17,
     "metadata": {},
     "output_type": "execute_result"
    }
   ],
   "source": [
    "reverse(-121)"
   ]
  },
  {
   "cell_type": "code",
   "execution_count": 22,
   "metadata": {},
   "outputs": [],
   "source": [
    "def reverse2(x):\n",
    "    copy_x = x\n",
    "    reversed_x = 0\n",
    "    while copy_x > 0:\n",
    "        last_digit = copy_x % 10\n",
    "        reversed_x = reversed_x * 10 + last_digit\n",
    "        copy_x = copy_x // 10\n",
    "    return reversed_x"
   ]
  },
  {
   "cell_type": "code",
   "execution_count": 23,
   "metadata": {},
   "outputs": [
    {
     "data": {
      "text/plain": [
       "121"
      ]
     },
     "execution_count": 23,
     "metadata": {},
     "output_type": "execute_result"
    }
   ],
   "source": [
    "reverse2(121)"
   ]
  },
  {
   "cell_type": "code",
   "execution_count": 24,
   "metadata": {},
   "outputs": [
    {
     "name": "stdout",
     "output_type": "stream",
     "text": [
      "True True\n"
     ]
    }
   ],
   "source": [
    "asNone = None\n",
    "print(asNone is None, not asNone)"
   ]
  },
  {
   "cell_type": "code",
   "execution_count": 66,
   "metadata": {},
   "outputs": [
    {
     "data": {
      "text/plain": [
       "[0]"
      ]
     },
     "execution_count": 66,
     "metadata": {},
     "output_type": "execute_result"
    }
   ],
   "source": [
    "[x for x in range(1)]"
   ]
  },
  {
   "cell_type": "code",
   "execution_count": 91,
   "metadata": {},
   "outputs": [],
   "source": [
    "def generate(numRows: int) -> List[List[int]]:\n",
    "    res = []\n",
    "    if numRows < 1:\n",
    "        return \n",
    "    if numRows == 1:\n",
    "        return [[1]]\n",
    "    \n",
    "    prev_rows = generate(numRows-1)\n",
    "    prev_row = prev_rows[-1]\n",
    "    cur_row = [1]\n",
    "    for i in range(len(prev_row)-1):\n",
    "        cur_row.append(prev_row[i] + prev_row[i+1])\n",
    "    cur_row.append(1)\n",
    "    prev_rows.append(cur_row)\n",
    "    return prev_rows"
   ]
  },
  {
   "cell_type": "code",
   "execution_count": 92,
   "metadata": {},
   "outputs": [
    {
     "data": {
      "text/plain": [
       "[[1], [1, 1], [1, 2, 1], [1, 3, 3, 1], [1, 4, 6, 4, 1]]"
      ]
     },
     "execution_count": 92,
     "metadata": {},
     "output_type": "execute_result"
    }
   ],
   "source": [
    "generate(5)"
   ]
  },
  {
   "cell_type": "code",
   "execution_count": 83,
   "metadata": {},
   "outputs": [],
   "source": [
    "def generate(numRows: int) -> List[List[int]]:\n",
    "    if numRows < 1:\n",
    "        return\n",
    "\n",
    "    if numRows == 1:\n",
    "        return [[1]]\n",
    "\n",
    "    preRows = generate(numRows-1)\n",
    "    preRow = preRows[-1]\n",
    "    curRow = [1]\n",
    "    for i in range(len(preRow)-1):\n",
    "        curRow.append(preRow[i] + preRow[i+1])\n",
    "    curRow.append(1)\n",
    "    preRows.append(curRow)\n",
    "\n",
    "    return preRows"
   ]
  },
  {
   "cell_type": "code",
   "execution_count": 84,
   "metadata": {
    "scrolled": true
   },
   "outputs": [
    {
     "data": {
      "text/plain": [
       "[[1], [1, 1], [1, 2, 1], [1, 3, 3, 1], [1, 4, 6, 4, 1]]"
      ]
     },
     "execution_count": 84,
     "metadata": {},
     "output_type": "execute_result"
    }
   ],
   "source": [
    "generate(5)"
   ]
  },
  {
   "cell_type": "code",
   "execution_count": 95,
   "metadata": {},
   "outputs": [
    {
     "data": {
      "text/plain": [
       "'b'"
      ]
     },
     "execution_count": 95,
     "metadata": {},
     "output_type": "execute_result"
    }
   ],
   "source": [
    "\"abc\"[-2]"
   ]
  },
  {
   "cell_type": "code",
   "execution_count": 99,
   "metadata": {},
   "outputs": [
    {
     "name": "stdout",
     "output_type": "stream",
     "text": [
      "21 ['a', 'm', 'a', 'n', 'a', 'p', 'l', 'a', 'n', 'a', 'c', 'a', 'n', 'a', 'l', 'p', 'a', 'n', 'a', 'm', 'a'] | a\n"
     ]
    }
   ],
   "source": [
    "test_string = \"A man, a plan, a canal: Panama\"\n",
    "chars = [char.lower() for char in test_string if char.isalnum()]\n",
    "print(len(chars), chars, \"|\", chars[11])"
   ]
  },
  {
   "cell_type": "code",
   "execution_count": 104,
   "metadata": {},
   "outputs": [
    {
     "data": {
      "text/plain": [
       "0"
      ]
     },
     "execution_count": 104,
     "metadata": {},
     "output_type": "execute_result"
    }
   ],
   "source": [
    "25//26"
   ]
  },
  {
   "cell_type": "code",
   "execution_count": 189,
   "metadata": {},
   "outputs": [
    {
     "data": {
      "text/plain": [
       "0"
      ]
     },
     "execution_count": 189,
     "metadata": {},
     "output_type": "execute_result"
    }
   ],
   "source": [
    "52%26"
   ]
  },
  {
   "cell_type": "code",
   "execution_count": 115,
   "metadata": {},
   "outputs": [
    {
     "data": {
      "text/plain": [
       "8"
      ]
     },
     "execution_count": 115,
     "metadata": {},
     "output_type": "execute_result"
    }
   ],
   "source": [
    "34-26"
   ]
  },
  {
   "cell_type": "code",
   "execution_count": 103,
   "metadata": {},
   "outputs": [
    {
     "data": {
      "text/plain": [
       "25"
      ]
     },
     "execution_count": 103,
     "metadata": {},
     "output_type": "execute_result"
    }
   ],
   "source": [
    "701-26*26"
   ]
  },
  {
   "cell_type": "code",
   "execution_count": 108,
   "metadata": {},
   "outputs": [],
   "source": [
    "ascii_uppercase = list('ABCDEFGHIJKLMNOPQRSTUVWXYZ')"
   ]
  },
  {
   "cell_type": "code",
   "execution_count": 112,
   "metadata": {},
   "outputs": [
    {
     "data": {
      "text/plain": [
       "'Z'"
      ]
     },
     "execution_count": 112,
     "metadata": {},
     "output_type": "execute_result"
    }
   ],
   "source": [
    "ascii_uppercase[25]"
   ]
  },
  {
   "cell_type": "code",
   "execution_count": 193,
   "metadata": {},
   "outputs": [],
   "source": [
    "# def convertToTitle(n: int) -> str:\n",
    "#     mapping = 'ABCDEFGHIJKLMNOPQRSTUVWXYZ'\n",
    "#     result = ''\n",
    "#     while n:\n",
    "#         n, r = divmod(n - 1, 26)\n",
    "#         result += mapping[r]\n",
    "\n",
    "#     return \"\".join(reversed(result))\n",
    "def convertToTitle(n):\n",
    "    alphas = '=ABCDEFGHIJKLMNOPQRSTUVWXYZ'\n",
    "    result = []\n",
    "    while n:\n",
    "        digit = int(n % 26)\n",
    "        if digit == 0: \n",
    "            digit = 26\n",
    "        n = (n - digit) / 26\n",
    "        result.append(alphas[digit])\n",
    "    return ''.join(reversed(result))"
   ]
  },
  {
   "cell_type": "code",
   "execution_count": 247,
   "metadata": {},
   "outputs": [
    {
     "name": "stdout",
     "output_type": "stream",
     "text": [
      "4 46.0\n",
      "20 1.0\n",
      "1 0.0\n"
     ]
    },
    {
     "data": {
      "text/plain": [
       "'ATD'"
      ]
     },
     "execution_count": 247,
     "metadata": {},
     "output_type": "execute_result"
    }
   ],
   "source": [
    "convertToTitle(1200)"
   ]
  },
  {
   "cell_type": "code",
   "execution_count": 220,
   "metadata": {},
   "outputs": [],
   "source": [
    "# Divide and Conquer\n",
    "def majorityElement6(nums):\n",
    "    if not nums:\n",
    "        return None\n",
    "    if len(nums) == 1:\n",
    "        return nums[0]\n",
    "    a = majorityElement6(nums[:len(nums)//2])\n",
    "    b = majorityElement6(nums[len(nums)//2:])\n",
    "    if a == b:\n",
    "        return a\n",
    "    return [b, a][nums.count(a) > len(nums)//2]"
   ]
  },
  {
   "cell_type": "code",
   "execution_count": 221,
   "metadata": {},
   "outputs": [
    {
     "name": "stdout",
     "output_type": "stream",
     "text": [
      "1 2\n",
      "1 2\n",
      "2 2\n"
     ]
    },
    {
     "data": {
      "text/plain": [
       "2"
      ]
     },
     "execution_count": 221,
     "metadata": {},
     "output_type": "execute_result"
    }
   ],
   "source": [
    "majorityElement6([1,2,1,2])"
   ]
  },
  {
   "cell_type": "code",
   "execution_count": 218,
   "metadata": {},
   "outputs": [],
   "source": [
    "def majorityElement(nums):\n",
    "    if len(nums) == 1:\n",
    "        return nums[0]\n",
    "\n",
    "    if len(nums) == 2:\n",
    "        if nums[0] == nums[1]:\n",
    "            return nums[0]\n",
    "        else:\n",
    "            return None\n",
    "    \n",
    "    m1 = majorityElement(nums[0:int(len(nums)/2)])\n",
    "    m2 = majorityElement(nums[int(len(nums)/2):len(nums)])\n",
    "    \n",
    "    if m1 != None and count(nums, m1) > len(nums)/2:\n",
    "        return m1\n",
    "    if m2 != None and count(nums, m2) > len(nums)/2:\n",
    "        return m2\n",
    "\n",
    "def count(nums, m):\n",
    "    count = 0\n",
    "    for i in nums:\n",
    "        if i == m:\n",
    "            count += 1\n",
    "    return count"
   ]
  },
  {
   "cell_type": "code",
   "execution_count": 219,
   "metadata": {},
   "outputs": [],
   "source": [
    "majorityElement([1,2,1,2])"
   ]
  },
  {
   "cell_type": "code",
   "execution_count": 232,
   "metadata": {},
   "outputs": [],
   "source": [
    "ascii_uppercase = list('ABCDEFGHIJKLMNOPQRSTUVWXYZ')\n"
   ]
  },
  {
   "cell_type": "code",
   "execution_count": 262,
   "metadata": {},
   "outputs": [],
   "source": [
    "def titleToNumber(s: str) -> int:\n",
    "    map_val = dict(zip('ABCDEFGHIJKLMNOPQRSTUVWXYZ', range(1, 27)))\n",
    "    number = 0\n",
    "    for char in s:\n",
    "        number = number * 26 + map_val[char]\n",
    "    return number"
   ]
  },
  {
   "cell_type": "code",
   "execution_count": 261,
   "metadata": {},
   "outputs": [
    {
     "name": "stdout",
     "output_type": "stream",
     "text": [
      "A 1 1\n",
      "T 20 46\n",
      "D 4 1200\n"
     ]
    },
    {
     "data": {
      "text/plain": [
       "1200"
      ]
     },
     "execution_count": 261,
     "metadata": {},
     "output_type": "execute_result"
    }
   ],
   "source": [
    "titleToNumber('ATD')"
   ]
  },
  {
   "cell_type": "code",
   "execution_count": 258,
   "metadata": {},
   "outputs": [
    {
     "data": {
      "text/plain": [
       "26"
      ]
     },
     "execution_count": 258,
     "metadata": {},
     "output_type": "execute_result"
    }
   ],
   "source": [
    "ord('Z') - ord('A') + 1"
   ]
  },
  {
   "cell_type": "code",
   "execution_count": 233,
   "metadata": {},
   "outputs": [
    {
     "data": {
      "text/plain": [
       "1"
      ]
     },
     "execution_count": 233,
     "metadata": {},
     "output_type": "execute_result"
    }
   ],
   "source": [
    "map_val['A']"
   ]
  },
  {
   "cell_type": "code",
   "execution_count": 267,
   "metadata": {},
   "outputs": [
    {
     "data": {
      "text/plain": [
       "0"
      ]
     },
     "execution_count": 267,
     "metadata": {},
     "output_type": "execute_result"
    }
   ],
   "source": [
    "1000%10"
   ]
  },
  {
   "cell_type": "code",
   "execution_count": 277,
   "metadata": {},
   "outputs": [
    {
     "data": {
      "text/plain": [
       "[5, 6, 7]"
      ]
     },
     "execution_count": 277,
     "metadata": {},
     "output_type": "execute_result"
    }
   ],
   "source": []
  },
  {
   "cell_type": "code",
   "execution_count": 274,
   "metadata": {},
   "outputs": [
    {
     "name": "stdout",
     "output_type": "stream",
     "text": [
      "0 1\n",
      "1 2\n",
      "2 3\n",
      "3 4\n",
      "4 5\n",
      "5 6\n",
      "6 7\n"
     ]
    }
   ],
   "source": []
  },
  {
   "cell_type": "code",
   "execution_count": 293,
   "metadata": {},
   "outputs": [
    {
     "name": "stdout",
     "output_type": "stream",
     "text": [
      "0 2 7\n",
      "1 1 6\n",
      "2 0 5\n",
      "3 6 4\n",
      "4 5 3\n",
      "5 4 2\n",
      "6 3 1\n"
     ]
    }
   ],
   "source": []
  },
  {
   "cell_type": "code",
   "execution_count": 295,
   "metadata": {},
   "outputs": [
    {
     "data": {
      "text/plain": [
       "[6, 5, 4, 3]"
      ]
     },
     "execution_count": 295,
     "metadata": {},
     "output_type": "execute_result"
    }
   ],
   "source": [
    "list(reversed(range(k, len(test_array))))"
   ]
  },
  {
   "cell_type": "code",
   "execution_count": 304,
   "metadata": {},
   "outputs": [],
   "source": [
    "def rob(nums: List[int]) -> int:\n",
    "    if len(nums) == 1:\n",
    "        return nums[0]\n",
    "    if len(nums) == 2:\n",
    "        return max(nums)\n",
    "    print(nums[-1], nums[:-2])\n",
    "    rob_rightmost = nums[-1] + rob(nums[:-2])\n",
    "    rob_wo_rightmost = rob(nums[:-1])\n",
    "    return max(rob_rightmost, rob_wo_rightmost) "
   ]
  },
  {
   "cell_type": "code",
   "execution_count": 306,
   "metadata": {},
   "outputs": [
    {
     "data": {
      "text/plain": [
       "2"
      ]
     },
     "execution_count": 306,
     "metadata": {},
     "output_type": "execute_result"
    }
   ],
   "source": [
    "rob([1,2])"
   ]
  },
  {
   "cell_type": "code",
   "execution_count": 309,
   "metadata": {},
   "outputs": [
    {
     "data": {
      "text/plain": [
       "1"
      ]
     },
     "execution_count": 309,
     "metadata": {},
     "output_type": "execute_result"
    }
   ],
   "source": [
    "[1][-1]"
   ]
  },
  {
   "cell_type": "code",
   "execution_count": 310,
   "metadata": {},
   "outputs": [],
   "source": [
    "def pick_digit(num):\n",
    "    digits = []\n",
    "    while num:\n",
    "        digit = num % 10\n",
    "        num = num // 10\n",
    "        digits.append(digit)\n",
    "    return digits\n",
    "    "
   ]
  },
  {
   "cell_type": "code",
   "execution_count": 314,
   "metadata": {},
   "outputs": [
    {
     "data": {
      "text/plain": [
       "[1]"
      ]
     },
     "execution_count": 314,
     "metadata": {},
     "output_type": "execute_result"
    }
   ],
   "source": [
    "pick_digit(1)"
   ]
  },
  {
   "cell_type": "code",
   "execution_count": 315,
   "metadata": {},
   "outputs": [
    {
     "name": "stdout",
     "output_type": "stream",
     "text": [
      "0 1\n",
      "1 2\n",
      "2 3\n"
     ]
    }
   ],
   "source": [
    "for idx, char in enumerate('123'):\n",
    "    print(idx, char)"
   ]
  },
  {
   "cell_type": "code",
   "execution_count": 317,
   "metadata": {},
   "outputs": [
    {
     "data": {
      "text/plain": [
       "2"
      ]
     },
     "execution_count": 317,
     "metadata": {},
     "output_type": "execute_result"
    }
   ],
   "source": [
    "'egg'.count('g')"
   ]
  },
  {
   "cell_type": "code",
   "execution_count": 328,
   "metadata": {},
   "outputs": [
    {
     "data": {
      "text/plain": [
       "2"
      ]
     },
     "execution_count": 328,
     "metadata": {},
     "output_type": "execute_result"
    }
   ],
   "source": [
    "4//2"
   ]
  },
  {
   "cell_type": "code",
   "execution_count": 323,
   "metadata": {},
   "outputs": [
    {
     "data": {
      "text/plain": [
       "[1, 2]"
      ]
     },
     "execution_count": 323,
     "metadata": {},
     "output_type": "execute_result"
    }
   ],
   "source": [
    "a = [1,2,3]\n",
    "a.pop()\n",
    "a"
   ]
  },
  {
   "cell_type": "code",
   "execution_count": 326,
   "metadata": {},
   "outputs": [
    {
     "name": "stdout",
     "output_type": "stream",
     "text": [
      "0 0\n",
      "1 1\n",
      "2 0\n",
      "3 1\n",
      "4 0\n",
      "5 1\n",
      "6 0\n",
      "7 1\n",
      "8 0\n",
      "9 1\n"
     ]
    }
   ],
   "source": [
    "for n in range(10):\n",
    "    print(n, n & 1)"
   ]
  },
  {
   "cell_type": "code",
   "execution_count": 334,
   "metadata": {},
   "outputs": [
    {
     "name": "stdout",
     "output_type": "stream",
     "text": [
      "seq_val [1, 2, 2, 1] 4 2\n",
      "[1, 2] [1, 2]\n"
     ]
    }
   ],
   "source": [
    "seq_val=[1,2,2,1]\n",
    "mid_len = len(seq_val)//2\n",
    "print(\"seq_val\", seq_val, len(seq_val), mid_len)\n",
    "print(seq_val[:mid_len], seq_val[len(seq_val)-1:mid_len-1:-1])"
   ]
  },
  {
   "cell_type": "code",
   "execution_count": null,
   "metadata": {},
   "outputs": [],
   "source": []
  }
 ],
 "metadata": {
  "kernelspec": {
   "display_name": "Python 3",
   "language": "python",
   "name": "python3"
  },
  "language_info": {
   "codemirror_mode": {
    "name": "ipython",
    "version": 3
   },
   "file_extension": ".py",
   "mimetype": "text/x-python",
   "name": "python",
   "nbconvert_exporter": "python",
   "pygments_lexer": "ipython3",
   "version": "3.6.7"
  }
 },
 "nbformat": 4,
 "nbformat_minor": 2
}
